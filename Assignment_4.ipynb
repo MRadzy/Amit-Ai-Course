{
  "cells": [
    {
      "cell_type": "markdown",
      "metadata": {
        "id": "2a0y9sz6Znvf"
      },
      "source": [
        "### Create a simple class names calculator"
      ]
    },
    {
      "cell_type": "code",
      "execution_count": 11,
      "metadata": {},
      "outputs": [
        {
          "name": "stdout",
          "output_type": "stream",
          "text": [
            "2+3=5\n",
            "|-4|=4\n",
            "-4^2=16\n"
          ]
        },
        {
          "data": {
            "text/plain": [
              "16"
            ]
          },
          "execution_count": 11,
          "metadata": {},
          "output_type": "execute_result"
        }
      ],
      "source": [
        "class calculator():\n",
        "    result=None\n",
        "    def add(self,x,y):\n",
        "        self.result=x+y\n",
        "        print(f\"{x}+{y}={self.result}\")\n",
        "        return self.result\n",
        "    def subtract(self,x,y):\n",
        "        self.result=x-y\n",
        "        print(f\"{x}-{y}={self.result}\")\n",
        "        return self.result\n",
        "    def multiply(self,x,y):\n",
        "        self.result=x*y\n",
        "        print(f\"{x}*{y}={self.result}\")\n",
        "        return self.result\n",
        "    def divide(self,x,y):\n",
        "        self.result=x/y\n",
        "        print(f\"{x}/{y}={self.result}\")\n",
        "        return self.result\n",
        "    def modulu(self,x,y):\n",
        "        self.result=x%y\n",
        "        print(f\"{x}%{y}={self.result}\")\n",
        "        return self.result\n",
        "    def abs(self,x):\n",
        "        self.result=abs(x)\n",
        "        print(f\"|{x}|={self.result}\")\n",
        "        return self.result\n",
        "    def power(self,x,y):\n",
        "        self.result=x**y\n",
        "        print(f\"{x}^{y}={self.result}\")\n",
        "        return self.result\n",
        "    \n",
        "calc=calculator()\n",
        "sum=calc.add(2,3)\n",
        "absolute=calc.abs(-4)\n",
        "pow=calc.power(-4,2)\n",
        "calc.result\n"
      ]
    },
    {
      "cell_type": "markdown",
      "metadata": {
        "id": "h-9hbnhMZrdV"
      },
      "source": [
        "### Create a constructor that prints Welcome message"
      ]
    },
    {
      "cell_type": "code",
      "execution_count": 10,
      "metadata": {},
      "outputs": [
        {
          "name": "stdout",
          "output_type": "stream",
          "text": [
            "Welcome Mahmoud Rady!\n",
            "Welcome Hamza Hendy!\n"
          ]
        }
      ],
      "source": [
        "class greet():\n",
        "    def __init__(self,name):\n",
        "        print(f\"Welcome {name}!\")\n",
        "greeting=greet(\"Mahmoud Rady\")\n",
        "greeting=greet(\"Hamza Hendy\")"
      ]
    },
    {
      "cell_type": "markdown",
      "metadata": {
        "id": "CciUtqOgZtr9"
      },
      "source": [
        "###  Add 2 methods to the class sum & mull\n",
        "Done"
      ]
    },
    {
      "cell_type": "markdown",
      "metadata": {
        "id": "KX9v_nj0ZwX7"
      },
      "source": [
        "###  The sum method return the sum of 2 arguments x and y\n",
        "Done"
      ]
    },
    {
      "cell_type": "markdown",
      "metadata": {
        "id": "z-zkBmIzZ1mI"
      },
      "source": [
        "### The mull method return the multiplication of the arguments x and y\n",
        "Done"
      ]
    },
    {
      "cell_type": "markdown",
      "metadata": {
        "id": "EvC_D3eHZ3mf"
      },
      "source": [
        "###  Take an object from the class"
      ]
    },
    {
      "cell_type": "markdown",
      "metadata": {},
      "source": [
        "Done"
      ]
    },
    {
      "cell_type": "markdown",
      "metadata": {
        "id": "hY6TnxuoZ9jw"
      },
      "source": [
        "### Explain in few words why we call the self in methods"
      ]
    },
    {
      "cell_type": "markdown",
      "metadata": {},
      "source": [
        "Because there is variables for each object that is unique to it, for example if we have class for rectangle and we want to calculate area each rectangle has it's own length and width so we call self to access the specific rectangle's attributes and calculate the correct area."
      ]
    },
    {
      "cell_type": "markdown",
      "metadata": {
        "id": "KdsHy2_CZ_d_"
      },
      "source": [
        "### What we mean with OOP 4 Pillars"
      ]
    },
    {
      "cell_type": "markdown",
      "metadata": {},
      "source": [
        " 1) Encapsulation\n",
        " 2) Polymorphism\n",
        " 3) Abstraction\n",
        " 4) Inheritance"
      ]
    },
    {
      "cell_type": "markdown",
      "metadata": {
        "id": "_WkKdEQSaBlt"
      },
      "source": [
        "###  Why we use OOP in our code"
      ]
    },
    {
      "cell_type": "markdown",
      "metadata": {},
      "source": [
        "To make the code more interpretable and easier for modification and adding more functions easily"
      ]
    },
    {
      "cell_type": "markdown",
      "metadata": {
        "id": "IdJYRpDlaEca"
      },
      "source": [
        "### Create a new class names SciCalc with 3 methods , sum , mull , power all of them takes 2 argument x, y"
      ]
    },
    {
      "cell_type": "code",
      "execution_count": 12,
      "metadata": {},
      "outputs": [
        {
          "name": "stdout",
          "output_type": "stream",
          "text": [
            "2+3=5\n",
            "2*3=6\n",
            "2^3=8\n"
          ]
        }
      ],
      "source": [
        "class SciCalc():\n",
        "    result=None\n",
        "    def add(self,x,y):\n",
        "        self.result=x+y\n",
        "        print(f\"{x}+{y}={self.result}\")\n",
        "        return self.result\n",
        "    def multiply(self,x,y):\n",
        "        self.result=x*y\n",
        "        print(f\"{x}*{y}={self.result}\")\n",
        "        return self.result\n",
        "    def power(self,x,y):\n",
        "        self.result=x**y\n",
        "        print(f\"{x}^{y}={self.result}\")\n",
        "        return self.result\n",
        "subcalc=SciCalc()\n",
        "res=subcalc.add(2,3)\n",
        "res=subcalc.multiply(2,3)\n",
        "res=subcalc.power(2,3)\n",
        "\n"
      ]
    },
    {
      "cell_type": "markdown",
      "metadata": {
        "id": "qV1wzT51aHlw"
      },
      "source": [
        "### Sum return the sum of x and y"
      ]
    },
    {
      "cell_type": "markdown",
      "metadata": {},
      "source": [
        "Done"
      ]
    },
    {
      "cell_type": "markdown",
      "metadata": {
        "id": "EwdGJ1KVaJ9W"
      },
      "source": [
        "###  Mull return the multiplication of x and y"
      ]
    },
    {
      "cell_type": "markdown",
      "metadata": {},
      "source": [
        "Done"
      ]
    },
    {
      "cell_type": "markdown",
      "metadata": {
        "id": "aNNs5VAzaVZx"
      },
      "source": [
        "### Inherit from the Calc class , now remove the unneeded code the the SciCalc after inheriting\n"
      ]
    },
    {
      "cell_type": "code",
      "execution_count": 20,
      "metadata": {},
      "outputs": [
        {
          "name": "stdout",
          "output_type": "stream",
          "text": [
            "4=-4\n",
            "2+3=5\n"
          ]
        }
      ],
      "source": [
        "class SciCalc(calculator):\n",
        "    def negate(self,x):\n",
        "        self.result=-x\n",
        "        print(f\"{x}={self.result}\")\n",
        "        return self.result\n",
        "Allcalc=SciCalc()\n",
        "res=Allcalc.negate(4)\n",
        "res=Allcalc.add(2,3)"
      ]
    },
    {
      "cell_type": "markdown",
      "metadata": {
        "id": "BkMXbHfMaf5S"
      },
      "source": [
        "### Explain in few words what happened after inheriting"
      ]
    },
    {
      "cell_type": "markdown",
      "metadata": {},
      "source": [
        "It makes code easier and shorter as the child have inherited all the parent functions and variables."
      ]
    },
    {
      "cell_type": "markdown",
      "metadata": {},
      "source": []
    }
  ],
  "metadata": {
    "colab": {
      "private_outputs": true,
      "provenance": []
    },
    "kernelspec": {
      "display_name": "Python 3",
      "name": "python3"
    },
    "language_info": {
      "codemirror_mode": {
        "name": "ipython",
        "version": 3
      },
      "file_extension": ".py",
      "mimetype": "text/x-python",
      "name": "python",
      "nbconvert_exporter": "python",
      "pygments_lexer": "ipython3",
      "version": "3.12.1"
    }
  },
  "nbformat": 4,
  "nbformat_minor": 0
}
