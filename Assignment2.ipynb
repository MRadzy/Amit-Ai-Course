{
 "cells": [
  {
   "cell_type": "markdown",
   "metadata": {
    "id": "Ui8LKXjlii3V"
   },
   "source": [
    "### 1) Write a program to print the maximum between two numbers. (one-line conditional statement)\n"
   ]
  },
  {
   "cell_type": "code",
   "execution_count": null,
   "metadata": {},
   "outputs": [],
   "source": [
    "x=int(input(\"Enter first number\"))\n",
    "y=int(input(\"Enter second number\"))\n",
    "if x>y:\n",
    "    print(x)\n",
    "else:\n",
    "    print(y)"
   ]
  },
  {
   "cell_type": "markdown",
   "metadata": {
    "id": "xQB_yP4rirZS"
   },
   "source": [
    "### 2) Write a program to find the maximum between three numbers.\n"
   ]
  },
  {
   "cell_type": "code",
   "execution_count": 30,
   "metadata": {},
   "outputs": [
    {
     "name": "stdout",
     "output_type": "stream",
     "text": [
      "Enter first number4\n",
      "Enter second number9\n",
      "Enter third number26\n",
      "26\n"
     ]
    }
   ],
   "source": [
    "x=int(input(\"Enter first number\"))\n",
    "y=int(input(\"Enter second number\"))\n",
    "z=int(input(\"Enter third number\"))\n",
    "if x>y and x>z:\n",
    "    print(x)\n",
    "elif y>z:\n",
    "    print(y)\n",
    "else:\n",
    "    print(z)"
   ]
  },
  {
   "cell_type": "markdown",
   "metadata": {
    "id": "di3xEq8mjBRK"
   },
   "source": [
    "### 3) Write a program to check whether a number is negative, or positive (one-line conditional statement)\n"
   ]
  },
  {
   "cell_type": "code",
   "execution_count": 33,
   "metadata": {},
   "outputs": [
    {
     "name": "stdout",
     "output_type": "stream",
     "text": [
      "Enter number0\n",
      "Zero\n"
     ]
    }
   ],
   "source": [
    "x=int(input(\"Enter number\"))\n",
    "if x==0:\n",
    "    print(\"Zero\")\n",
    "elif x>0:\n",
    "    print(\"Positive Number\") \n",
    "else :\n",
    "    print(\"Negative Number\")"
   ]
  },
  {
   "cell_type": "markdown",
   "metadata": {
    "id": "grc5Gk_RjFBe"
   },
   "source": [
    "### 4) Write a  program to check whether a number is even or odd  (one-line statement).\n"
   ]
  },
  {
   "cell_type": "code",
   "execution_count": 27,
   "metadata": {},
   "outputs": [
    {
     "name": "stdout",
     "output_type": "stream",
     "text": [
      "Enter number5\n",
      "Odd\n"
     ]
    }
   ],
   "source": [
    "x=int(input(\"Enter number\"))\n",
    "if x%2==0:\n",
    "    print(\"Even\")\n",
    "else:\n",
    "    print(\"Odd\")"
   ]
  },
  {
   "cell_type": "markdown",
   "metadata": {
    "id": "-J3UtjpIjJPv"
   },
   "source": [
    "### 5) Write a  program to check whether a year is a leap year or not. (one-line conditional statement).\n"
   ]
  },
  {
   "cell_type": "code",
   "execution_count": 28,
   "metadata": {},
   "outputs": [
    {
     "name": "stdout",
     "output_type": "stream",
     "text": [
      "Enter Year2012\n",
      "Leap Year\n"
     ]
    }
   ],
   "source": [
    "year=int(input(\"Enter Year\"))\n",
    "if (year%400 == 0) or (year%4==0 and year%100!=0):\n",
    "    print(\"Leap Year\")\n",
    "else:\n",
    "    print(\"Not a Leap Year\")"
   ]
  },
  {
   "cell_type": "markdown",
   "metadata": {
    "id": "JeN4yaIMjNlC"
   },
   "source": [
    "### 6) Write a  program to store the weekdays in a list and access the week day and print it by index.\n"
   ]
  },
  {
   "cell_type": "code",
   "execution_count": 34,
   "metadata": {},
   "outputs": [
    {
     "name": "stdout",
     "output_type": "stream",
     "text": [
      "Enter the index (0-6) to get the weekday: 5\n",
      "Weekday at index 5 is Wednesday\n"
     ]
    }
   ],
   "source": [
    "weekdays=[\"Friday\",\"Saturday\",\"Sunday\",\"Monday\",\"Tuesday\",\"Wednesday\",\"Thursday\"]\n",
    "index = int(input(\"Enter the index (0-6) to get the weekday: \"))\n",
    "if 0 <= index < len(weekdays):\n",
    "    print(\"Weekday at index\", index, \"is\", weekdays[index])\n",
    "else:\n",
    "    print(\"Index is out of range.\")\n"
   ]
  },
  {
   "cell_type": "markdown",
   "metadata": {
    "id": "ST7uKJmtjYh1"
   },
   "source": [
    "### 7) Write a  program to print all alphabets from a to z using while loop"
   ]
  },
  {
   "cell_type": "code",
   "execution_count": 26,
   "metadata": {},
   "outputs": [
    {
     "name": "stdout",
     "output_type": "stream",
     "text": [
      "a\n",
      "b\n",
      "c\n",
      "d\n",
      "e\n",
      "f\n",
      "g\n",
      "h\n",
      "i\n",
      "j\n",
      "k\n",
      "l\n",
      "m\n",
      "n\n",
      "o\n",
      "p\n",
      "q\n",
      "r\n",
      "s\n",
      "t\n",
      "u\n",
      "v\n",
      "w\n",
      "x\n",
      "y\n",
      "z\n"
     ]
    }
   ],
   "source": [
    "x='a'\n",
    "while(ord(x)<(123)):\n",
    "    print(x)\n",
    "    x=chr(ord(x)+1)"
   ]
  },
  {
   "cell_type": "markdown",
   "metadata": {
    "id": "PkPPTrivjran"
   },
   "source": [
    "### 8)Write a program to store numbers in the List and print its reverse"
   ]
  },
  {
   "cell_type": "code",
   "execution_count": 10,
   "metadata": {},
   "outputs": [
    {
     "name": "stdout",
     "output_type": "stream",
     "text": [
      "Enter count of numbers needed to store5\n",
      "Enter number1\n",
      "Enter number2\n",
      "Enter number3\n",
      "Enter number4\n",
      "Enter number5\n",
      "5\n",
      "4\n",
      "3\n",
      "2\n",
      "1\n"
     ]
    }
   ],
   "source": [
    "num=int(input(\"Enter count of numbers needed to store\"))\n",
    "x=[0]*num\n",
    "for i in range(num):\n",
    "   x[i] = int(input(\"Enter number\"))\n",
    "#x.reverse()\n",
    "#print(x)\n",
    "#x.reverse()\n",
    "for i in range(num-1,-1,-1):\n",
    "    print(x[i])"
   ]
  },
  {
   "cell_type": "markdown",
   "metadata": {
    "id": "2JoHNIaCj7fR"
   },
   "source": [
    "### 9) Write a program to print the multiplcation table of any number"
   ]
  },
  {
   "cell_type": "code",
   "execution_count": 12,
   "metadata": {},
   "outputs": [
    {
     "name": "stdout",
     "output_type": "stream",
     "text": [
      "Enter number4\n",
      "4 x 0 = 0\n",
      "4 x 1 = 4\n",
      "4 x 2 = 8\n",
      "4 x 3 = 12\n",
      "4 x 4 = 16\n",
      "4 x 5 = 20\n",
      "4 x 6 = 24\n",
      "4 x 7 = 28\n",
      "4 x 8 = 32\n",
      "4 x 9 = 36\n",
      "4 x 10 = 40\n",
      "4 x 11 = 44\n",
      "4 x 12 = 48\n"
     ]
    }
   ],
   "source": [
    "x=int(input(\"Enter number\"))\n",
    "for i in range(13):\n",
    "    print(x,\"x\",i,\"=\",x*i)"
   ]
  },
  {
   "cell_type": "markdown",
   "metadata": {
    "id": "WTIX9yh1kLs-"
   },
   "source": [
    "### 10)Write a program to print all even numbers between 1 to 100.(using while loop)"
   ]
  },
  {
   "cell_type": "code",
   "execution_count": 21,
   "metadata": {
    "id": "i5fTGY3Qib9Y"
   },
   "outputs": [
    {
     "name": "stdout",
     "output_type": "stream",
     "text": [
      "2\n",
      "4\n",
      "6\n",
      "8\n",
      "10\n",
      "12\n",
      "14\n",
      "16\n",
      "18\n",
      "20\n",
      "22\n",
      "24\n",
      "26\n",
      "28\n",
      "30\n",
      "32\n",
      "34\n",
      "36\n",
      "38\n",
      "40\n",
      "42\n",
      "44\n",
      "46\n",
      "48\n",
      "50\n",
      "52\n",
      "54\n",
      "56\n",
      "58\n",
      "60\n",
      "62\n",
      "64\n",
      "66\n",
      "68\n",
      "70\n",
      "72\n",
      "74\n",
      "76\n",
      "78\n",
      "80\n",
      "82\n",
      "84\n",
      "86\n",
      "88\n",
      "90\n",
      "92\n",
      "94\n",
      "96\n",
      "98\n",
      "100\n"
     ]
    }
   ],
   "source": [
    "for i in range(1,101):\n",
    "    if i % 2 == 0:\n",
    "        print(i)"
   ]
  }
 ],
 "metadata": {
  "colab": {
   "private_outputs": true,
   "provenance": []
  },
  "kernelspec": {
   "display_name": "Python 3 (ipykernel)",
   "language": "python",
   "name": "python3"
  },
  "language_info": {
   "codemirror_mode": {
    "name": "ipython",
    "version": 3
   },
   "file_extension": ".py",
   "mimetype": "text/x-python",
   "name": "python",
   "nbconvert_exporter": "python",
   "pygments_lexer": "ipython3",
   "version": "3.11.5"
  }
 },
 "nbformat": 4,
 "nbformat_minor": 1
}
