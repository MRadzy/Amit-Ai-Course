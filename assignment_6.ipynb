{
 "cells": [
  {
   "cell_type": "code",
   "execution_count": 1,
   "metadata": {},
   "outputs": [],
   "source": [
    "import numpy as np"
   ]
  },
  {
   "cell_type": "markdown",
   "metadata": {},
   "source": [
    "1. Write a NumPy program to test whether none of the elements of a given array is zero. \n"
   ]
  },
  {
   "cell_type": "code",
   "execution_count": 2,
   "metadata": {},
   "outputs": [
    {
     "name": "stdout",
     "output_type": "stream",
     "text": [
      "Array contains zero element\n",
      "Array does not have any zero elements\n",
      "False\n",
      "True\n"
     ]
    }
   ],
   "source": [
    "def zero_checker(x):\n",
    "    if bool(len(x[x==0])):\n",
    "        print(\"Array contains zero element\")\n",
    "    else:\n",
    "        print(\"Array does not have any zero elements\")\n",
    "\n",
    "def zero_check(x):\n",
    "    return np.all(x!=0)\n",
    "\n",
    "x=np.asarray([1,2,3,4,0])\n",
    "r=np.asarray([1,2,3,4])\n",
    "\n",
    "zero_checker(x)\n",
    "zero_checker(r)\n",
    "\n",
    "print(zero_check(x))\n",
    "print(zero_check(r))"
   ]
  },
  {
   "cell_type": "markdown",
   "metadata": {},
   "source": [
    "2. Write a NumPy program to test whether any of the elements of a given array is non-zero.   \n"
   ]
  },
  {
   "cell_type": "code",
   "execution_count": 3,
   "metadata": {},
   "outputs": [
    {
     "name": "stdout",
     "output_type": "stream",
     "text": [
      "Array does not have any non-zero elements\n",
      "Array contains non-zero elements\n",
      "True\n",
      "False\n"
     ]
    }
   ],
   "source": [
    "def num_checker(x):\n",
    "    if bool(len(x[x!=0])):\n",
    "        print(\"Array contains non-zero elements\")\n",
    "    else:\n",
    "        print(\"Array does not have any non-zero elements\")\n",
    "\n",
    "def num_check(x):\n",
    "    return np.all(x==0)\n",
    "\n",
    "x=np.asarray([0,0,0,0,0])\n",
    "r=np.asarray([0,0,3,0])\n",
    "\n",
    "num_checker(x)\n",
    "num_checker(r)\n",
    "\n",
    "print(num_check(x))\n",
    "print(num_check(r))"
   ]
  },
  {
   "cell_type": "markdown",
   "metadata": {},
   "source": [
    "3. Write a NumPy program to create an element-wise comparison (equal, equal within a tolerance) of two \n",
    "given"
   ]
  },
  {
   "cell_type": "code",
   "execution_count": 4,
   "metadata": {},
   "outputs": [
    {
     "name": "stdout",
     "output_type": "stream",
     "text": [
      "5 is equal to 5.2 with tolerance = 0.5? True\n",
      "5 is equal to 5.6 with tolerance = 0.5? False\n"
     ]
    }
   ],
   "source": [
    "def equal_with_tol(number,num,tol=None):\n",
    "    return np.isclose(number,num,atol=tol)\n",
    "\n",
    "x=5\n",
    "y=5.2\n",
    "tol=0.5\n",
    "z=equal_with_tol(x,y,tol)\n",
    "print(f\"{x} is equal to {y} with tolerance = {tol}? {z}\") #Check between 5 and 5.2      -0.5< 5-5.2 <0.5\n",
    "y=5.6\n",
    "z=equal_with_tol(x,y,tol)\n",
    "print(f\"{x} is equal to {y} with tolerance = {tol}? {z}\")"
   ]
  },
  {
   "cell_type": "markdown",
   "metadata": {},
   "source": [
    "4. Write a NumPy program to create an array of 10 zeros,10 ones, 10 fives"
   ]
  },
  {
   "cell_type": "code",
   "execution_count": 5,
   "metadata": {},
   "outputs": [
    {
     "data": {
      "text/plain": [
       "array([0., 0., 0., 0., 0., 0., 0., 0., 0., 0., 1., 1., 1., 1., 1., 1., 1.,\n",
       "       1., 1., 1., 5., 5., 5., 5., 5., 5., 5., 5., 5., 5.])"
      ]
     },
     "execution_count": 5,
     "metadata": {},
     "output_type": "execute_result"
    }
   ],
   "source": [
    "zer=np.zeros(10)\n",
    "ones=np.ones(10)\n",
    "fives=np.ones(10)*5\n",
    "arr=np.concatenate((zer,ones,fives))\n",
    "arr"
   ]
  },
  {
   "cell_type": "markdown",
   "metadata": {},
   "source": [
    "5. Write a NumPy program to create an array of the integers from 30 to 70.  \n"
   ]
  },
  {
   "cell_type": "code",
   "execution_count": 6,
   "metadata": {},
   "outputs": [
    {
     "data": {
      "text/plain": [
       "array([68, 44, 52, 63, 46, 37, 32, 48, 43, 34])"
      ]
     },
     "execution_count": 6,
     "metadata": {},
     "output_type": "execute_result"
    }
   ],
   "source": [
    "np.random.randint(30,70,size=10) # Array contains 10 numbers ranging from 30 to 70"
   ]
  },
  {
   "cell_type": "markdown",
   "metadata": {},
   "source": [
    "6. Write a NumPy program to create a 3x3 identity matrix  \n"
   ]
  },
  {
   "cell_type": "code",
   "execution_count": 7,
   "metadata": {},
   "outputs": [
    {
     "data": {
      "text/plain": [
       "array([[1., 0., 0.],\n",
       "       [0., 1., 0.],\n",
       "       [0., 0., 1.]])"
      ]
     },
     "execution_count": 7,
     "metadata": {},
     "output_type": "execute_result"
    }
   ],
   "source": [
    "np.eye(3)\n",
    "np.identity(3)"
   ]
  },
  {
   "cell_type": "markdown",
   "metadata": {},
   "source": [
    "7. Write a NumPy program to generate a random number between 0 and 1  \n"
   ]
  },
  {
   "cell_type": "code",
   "execution_count": 8,
   "metadata": {},
   "outputs": [
    {
     "data": {
      "text/plain": [
       "0.6200133420947426"
      ]
     },
     "execution_count": 8,
     "metadata": {},
     "output_type": "execute_result"
    }
   ],
   "source": [
    "np.random.rand()"
   ]
  },
  {
   "cell_type": "markdown",
   "metadata": {},
   "source": [
    "8. Write a NumPy program to generate an array of 15 random numbers from a standard normal \n",
    "distribution  "
   ]
  },
  {
   "cell_type": "code",
   "execution_count": 9,
   "metadata": {},
   "outputs": [
    {
     "data": {
      "text/plain": [
       "array([-0.30399017, -0.37759651, -1.69129233, -0.12169349, -1.96032059,\n",
       "       -0.17862792,  1.50217329, -0.60419016,  2.32166289,  1.04370506,\n",
       "        0.13067291,  0.85898669,  0.56302504, -0.07546879,  0.47231997])"
      ]
     },
     "execution_count": 9,
     "metadata": {},
     "output_type": "execute_result"
    }
   ],
   "source": [
    "np.random.randn(15)"
   ]
  },
  {
   "cell_type": "markdown",
   "metadata": {},
   "source": [
    "9. Write a NumPy program to create a vector with values ranging from 15 to 55 and print all values \n",
    "except the first and last.   "
   ]
  },
  {
   "cell_type": "code",
   "execution_count": 10,
   "metadata": {},
   "outputs": [
    {
     "data": {
      "text/plain": [
       "array([44, 51, 53])"
      ]
     },
     "execution_count": 10,
     "metadata": {},
     "output_type": "execute_result"
    }
   ],
   "source": [
    "x=np.random.randint(15,55,size=5)\n",
    "x[1:-1]"
   ]
  },
  {
   "cell_type": "markdown",
   "metadata": {},
   "source": [
    "10. Write a NumPy program to create a vector of length 5 filled with arbitrary integers from 0 to 10  \n"
   ]
  },
  {
   "cell_type": "code",
   "execution_count": 11,
   "metadata": {},
   "outputs": [
    {
     "data": {
      "text/plain": [
       "array([6, 9, 9, 3, 4])"
      ]
     },
     "execution_count": 11,
     "metadata": {},
     "output_type": "execute_result"
    }
   ],
   "source": [
    "np.random.randint(0, 11, size=5)\n"
   ]
  },
  {
   "cell_type": "markdown",
   "metadata": {},
   "source": [
    "11. Write a NumPy program to create a 5x5 matrix, in which the elements on the borders will be equal \n",
    "to 1, and inside 0.   "
   ]
  },
  {
   "cell_type": "code",
   "execution_count": 12,
   "metadata": {},
   "outputs": [
    {
     "data": {
      "text/plain": [
       "array([[0.72201298, 0.78702755, 0.4432692 , 0.6593375 , 0.87550674],\n",
       "       [0.65243237, 0.78055896, 0.06154023, 0.38231179, 0.53200617],\n",
       "       [0.92674864, 0.45587324, 0.38908512, 0.42794867, 0.13348261],\n",
       "       [0.8679653 , 0.86620189, 0.38842169, 0.9171472 , 0.66841777],\n",
       "       [0.07449041, 0.92319704, 0.10741345, 0.14346703, 0.49270565]])"
      ]
     },
     "execution_count": 12,
     "metadata": {},
     "output_type": "execute_result"
    }
   ],
   "source": [
    "np.random.rand(5,5)"
   ]
  },
  {
   "cell_type": "markdown",
   "metadata": {},
   "source": [
    "12. Write a NumPy program to create a 5x5 zero matrix with elements on the main diagonal equal to 1, 2, \n",
    "3, 4, 5.  "
   ]
  },
  {
   "cell_type": "code",
   "execution_count": 16,
   "metadata": {},
   "outputs": [
    {
     "data": {
      "text/plain": [
       "array([[1., 0., 0., 0., 0.],\n",
       "       [0., 2., 0., 0., 0.],\n",
       "       [0., 0., 3., 0., 0.],\n",
       "       [0., 0., 0., 4., 0.],\n",
       "       [0., 0., 0., 0., 5.]])"
      ]
     },
     "execution_count": 16,
     "metadata": {},
     "output_type": "execute_result"
    }
   ],
   "source": [
    "zer=np.identity(5)\n",
    "zer*=[1,2,3,4,5]\n",
    "zer"
   ]
  },
  {
   "cell_type": "markdown",
   "metadata": {},
   "source": [
    "13. Write a NumPy program to create a 4x4 matrix in which 0 and 1 are staggered, with zeros on the main \n",
    "diagonal. "
   ]
  },
  {
   "cell_type": "code",
   "execution_count": 22,
   "metadata": {},
   "outputs": [
    {
     "data": {
      "text/plain": [
       "array([[0., 1., 1., 1.],\n",
       "       [1., 0., 1., 1.],\n",
       "       [1., 1., 0., 1.],\n",
       "       [1., 1., 1., 0.]])"
      ]
     },
     "execution_count": 22,
     "metadata": {},
     "output_type": "execute_result"
    }
   ],
   "source": [
    "one=np.ones((4,4))\n",
    "one-=np.diag([1,1,1,1])\n",
    "one"
   ]
  },
  {
   "cell_type": "markdown",
   "metadata": {},
   "source": [
    "14. Write a NumPy program to save two given arrays into a single file in compressed format (.npz format) \n",
    "and load it.   "
   ]
  },
  {
   "cell_type": "code",
   "execution_count": 33,
   "metadata": {},
   "outputs": [
    {
     "name": "stdout",
     "output_type": "stream",
     "text": [
      "['args']\n"
     ]
    },
    {
     "data": {
      "text/plain": [
       "array([1, 2, 3, 4, 5, 6])"
      ]
     },
     "execution_count": 33,
     "metadata": {},
     "output_type": "execute_result"
    }
   ],
   "source": [
    "x=np.array([1,2,3])\n",
    "y=np.array([4,5,6])\n",
    "z=np.concatenate((x,y),axis=0)\n",
    "\n",
    "np.savez_compressed(file=\"Amit-Mahmoud\",args=z) #Saves into file\n",
    "\n",
    "arr=np.load(file=\"Amit-Mahmoud.npz\") #Reads from file\n",
    "print(arr.files) #To print files in the files\n",
    "arr['args']"
   ]
  },
  {
   "cell_type": "markdown",
   "metadata": {},
   "source": [
    "15. Write a NumPy program to create a one-dimensional array of forty pseudo-randomly generated values. \n",
    "Select  "
   ]
  },
  {
   "cell_type": "code",
   "execution_count": 41,
   "metadata": {},
   "outputs": [
    {
     "data": {
      "text/plain": [
       "array([ 4,  7, 32,  1, 15, 40, 14, 17, 19, 27,  2, 19, 21,  0, 29, 17,  0,\n",
       "        0, 22, 28, 34, 33, 17, 33,  9, 16, 37, 20, 14,  6, 24, 25, 24,  5,\n",
       "       34, 33, 12, 22, 34, 26])"
      ]
     },
     "execution_count": 41,
     "metadata": {},
     "output_type": "execute_result"
    }
   ],
   "source": [
    "x=np.random.randint(0,41,size=40)\n",
    "x"
   ]
  },
  {
   "cell_type": "markdown",
   "metadata": {},
   "source": [
    "16. Write a NumPy program to extract all numbers from a given array which are less and greater than a \n",
    "specified number.   "
   ]
  },
  {
   "cell_type": "code",
   "execution_count": 47,
   "metadata": {},
   "outputs": [
    {
     "data": {
      "text/plain": [
       "array([15, 14, 17, 19, 19, 17, 17, 16, 20, 14, 12])"
      ]
     },
     "execution_count": 47,
     "metadata": {},
     "output_type": "execute_result"
    }
   ],
   "source": [
    "minn=int(input(\"Enter lower bounder\"))\n",
    "maxx=int(input(\"Enter upper bounder\"))\n",
    "z=x[x>minn]\n",
    "z=z[z<=maxx]\n",
    "z"
   ]
  }
 ],
 "metadata": {
  "kernelspec": {
   "display_name": "Python 3",
   "language": "python",
   "name": "python3"
  },
  "language_info": {
   "codemirror_mode": {
    "name": "ipython",
    "version": 3
   },
   "file_extension": ".py",
   "mimetype": "text/x-python",
   "name": "python",
   "nbconvert_exporter": "python",
   "pygments_lexer": "ipython3",
   "version": "3.12.1"
  }
 },
 "nbformat": 4,
 "nbformat_minor": 2
}
