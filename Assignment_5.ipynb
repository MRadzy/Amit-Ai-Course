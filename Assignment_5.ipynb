{
  "cells": [
    {
      "cell_type": "markdown",
      "metadata": {
        "id": "vj3HPudmuzG-"
      },
      "source": [
        "### Task 1"
      ]
    },
    {
      "cell_type": "markdown",
      "metadata": {
        "id": "Qe_S6JKbuXef"
      },
      "source": [
        "This code defines a simple bank system using Python classes. The `Bank class` manages user accounts, balances, registration, login, balance checking, deposits, and withdrawals. Here's a summary of the functionality:\n",
        "\n",
        "`User Registration`: Allows a user to register by entering a unique username and password. If the username already exists, it prompts the user to choose a different one.\n",
        "\n",
        "`User Login`: Allows a registered user to log in by entering their username and password. If the username and password match, the user is logged in successfully.\n",
        "\n",
        "`Check Balance`: Allows a logged-in user to check their current account balance.\n",
        "\n",
        "`Deposit`: Allows a logged-in user to deposit money into their account. The user enters the deposit amount, which is added to their account balance.\n",
        "\n",
        "`Withdrawal`: Allows a logged-in user to withdraw money from their account, provided they have sufficient balance. The user enters the withdrawal amount, which is deducted from their account balance."
      ]
    },
    {
      "cell_type": "code",
      "execution_count": 139,
      "metadata": {},
      "outputs": [],
      "source": [
        "class user():\n",
        "    __balance=0\n",
        "      \n",
        "    def __init__(self,name,email, password):\n",
        "            self.name=name\n",
        "            self.__email = email\n",
        "            self.__password = password\n",
        "            print(\"User created successfully\")\n",
        "            \n",
        "    def get_balance(self):\n",
        "        return self.__balance\n",
        "    \n",
        "    def deposit(self,money):\n",
        "        self.__balance+=money\n",
        "        \n",
        "    def withdraw(self,money):\n",
        "        if money<=self.get_balance():\n",
        "            self.__balance-=money\n",
        "        else:\n",
        "            print(\"No enough funds\")\n",
        "        \n",
        "    def get_email(self):\n",
        "        return self.__email\n",
        "    \n",
        "    def get_password(self):\n",
        "        return self.__password  "
      ]
    },
    {
      "cell_type": "code",
      "execution_count": 140,
      "metadata": {},
      "outputs": [],
      "source": [
        "class bank():\n",
        "    def __init__(self) -> None:\n",
        "        self.users=[]\n",
        "        self.logged_user=None\n",
        "    \n",
        "    def add_user(self,name, email, password):\n",
        "        if self.get_user_by_email(email):\n",
        "            new_user = user(name,email, password)\n",
        "            self.logged_user = new_user\n",
        "            self.users.append(new_user)\n",
        "        else:\n",
        "            print(f\"User with email {email} already exists\")\n",
        "    \n",
        "    def get_user_by_email(self, email):\n",
        "        for user in self.users:\n",
        "            if user.get_email() == email:\n",
        "                return False\n",
        "        return True\n",
        "    \n",
        "    def login(self,email,password):\n",
        "        for user in self.users:\n",
        "            if user.get_email() == email:\n",
        "                if user.get_password() == password:\n",
        "                    self.logged_user = user\n",
        "                    print(\"Logged in successfully\")\n",
        "                    return\n",
        "                else:\n",
        "                    print(\"Incorrect password\")\n",
        "                    return\n",
        "        print(\"Email does not exist\")\n",
        "                    \n",
        "    def logout(self):\n",
        "        if self.logged_user!=None:\n",
        "            self.users[self.users.index(self.logged_user)]=self.logged_user\n",
        "            self.logged_user=None\n",
        "            print(\"Logged out successfully\")  \n",
        "            \n",
        "    def check_balance(self):\n",
        "        if self.logged_user!=None:\n",
        "            return self.logged_user.get_balance()\n",
        "        else:\n",
        "            print(\"Please log in first\")\n",
        "        \n",
        "    def deposit(self,money):   \n",
        "        if money<0:\n",
        "            return         \n",
        "        if self.logged_user!=None:\n",
        "            self.logged_user.deposit(money)\n",
        "        else:\n",
        "            print(\"Please log in first\")\n",
        "            \n",
        "    def withdraw(self,money):\n",
        "        if money<0:\n",
        "            return\n",
        "        if self.logged_user!=None:\n",
        "            self.logged_user.withdraw(money)\n",
        "        else:\n",
        "            print(\"Please log in first\")        "
      ]
    },
    {
      "cell_type": "markdown",
      "metadata": {},
      "source": [
        "Initializing object from bank class and creating user"
      ]
    },
    {
      "cell_type": "code",
      "execution_count": 141,
      "metadata": {},
      "outputs": [
        {
          "name": "stdout",
          "output_type": "stream",
          "text": [
            "User created successfully\n",
            "User with email rady@gmail.com already exists\n"
          ]
        }
      ],
      "source": [
        "bank1=bank()\n",
        "bank1.add_user(\"Mahmoud Rady\",\"rady@gmail.com\",\"123\") #Adding user with this email and password, should output user created successfully\n",
        "bank1.add_user(\"Ahmed\",\"rady@gmail.com\",\"1213\") #Adding user with email that already exist, should output email already has account"
      ]
    },
    {
      "cell_type": "markdown",
      "metadata": {},
      "source": [
        "Displaying the balance \"Initially equal zero and cannot withdraw money more than in the account\""
      ]
    },
    {
      "cell_type": "code",
      "execution_count": 142,
      "metadata": {},
      "outputs": [
        {
          "name": "stdout",
          "output_type": "stream",
          "text": [
            "Mahmoud Rady has balance = 0\n",
            "No enough funds\n",
            "Mahmoud Rady has balance = 0\n"
          ]
        }
      ],
      "source": [
        "print(f\"{bank1.logged_user.name} has balance = {bank1.check_balance()}\")\n",
        "bank1.withdraw(100) #Trying to withdraw when there is no enough funds, balance should not change\n",
        "print(f\"{bank1.logged_user.name} has balance = {bank1.check_balance()}\")"
      ]
    },
    {
      "cell_type": "markdown",
      "metadata": {},
      "source": [
        "Depositing money"
      ]
    },
    {
      "cell_type": "code",
      "execution_count": 143,
      "metadata": {},
      "outputs": [
        {
          "name": "stdout",
          "output_type": "stream",
          "text": [
            "Mahmoud Rady has balance = 500\n",
            "Mahmoud Rady has balance = 500\n"
          ]
        }
      ],
      "source": [
        "bank1.deposit(500) #Adding value of 500 to the balance\n",
        "print(f\"{bank1.logged_user.name} has balance = {bank1.check_balance()}\")\n",
        "bank1.deposit(-500) #(If negative value was passed it will not be considered)\n",
        "print(f\"{bank1.logged_user.name} has balance = {bank1.check_balance()}\")"
      ]
    },
    {
      "cell_type": "markdown",
      "metadata": {},
      "source": [
        "Logout / Save"
      ]
    },
    {
      "cell_type": "code",
      "execution_count": 144,
      "metadata": {},
      "outputs": [
        {
          "name": "stdout",
          "output_type": "stream",
          "text": [
            "Logged out successfully\n",
            "Please log in first\n"
          ]
        }
      ],
      "source": [
        "bank1.logout() #Logging out and saving all the previous transactions\n",
        "bank1.check_balance() #Should not print a balance as there is not a user logged in"
      ]
    },
    {
      "cell_type": "code",
      "execution_count": 145,
      "metadata": {},
      "outputs": [
        {
          "name": "stdout",
          "output_type": "stream",
          "text": [
            "User with email rady@gmail.com already exists\n",
            "User created successfully\n",
            "Logged out successfully\n"
          ]
        }
      ],
      "source": [
        "bank1.add_user(\"Mahmoud\",\"rady@gmail.com\",\"123\")\n",
        "bank1.add_user(\"Hamza Hendy\",\"hendy@gmail.com\",\"123\")\n",
        "bank1.logout()"
      ]
    },
    {
      "cell_type": "markdown",
      "metadata": {},
      "source": [
        "Logging back in to check for previous transactions"
      ]
    },
    {
      "cell_type": "code",
      "execution_count": 146,
      "metadata": {},
      "outputs": [
        {
          "name": "stdout",
          "output_type": "stream",
          "text": [
            "Incorrect password\n"
          ]
        }
      ],
      "source": [
        "bank1.login(\"rady@gmail.com\",\"1223\") "
      ]
    },
    {
      "cell_type": "code",
      "execution_count": 147,
      "metadata": {},
      "outputs": [
        {
          "name": "stdout",
          "output_type": "stream",
          "text": [
            "Logged in successfully\n"
          ]
        }
      ],
      "source": [
        "bank1.login(\"rady@gmail.com\",\"123\") #logging in back to check for previous transactions"
      ]
    },
    {
      "cell_type": "code",
      "execution_count": 148,
      "metadata": {},
      "outputs": [
        {
          "name": "stdout",
          "output_type": "stream",
          "text": [
            "Mahmoud Rady has balance = 500\n",
            "Mahmoud Rady has balance = 400\n",
            "Mahmoud Rady has balance = 900\n"
          ]
        }
      ],
      "source": [
        "print(f\"{bank1.logged_user.name} has balance = {bank1.check_balance()}\")\n",
        "bank1.withdraw(100)\n",
        "print(f\"{bank1.logged_user.name} has balance = {bank1.check_balance()}\")\n",
        "bank1.deposit(500)\n",
        "print(f\"{bank1.logged_user.name} has balance = {bank1.check_balance()}\")"
      ]
    },
    {
      "cell_type": "markdown",
      "metadata": {
        "id": "adnMuaiQu1-_"
      },
      "source": [
        "### Task 2"
      ]
    },
    {
      "cell_type": "markdown",
      "metadata": {
        "id": "RacJKaSmvOAc"
      },
      "source": [
        "Defines a class named `Library` that represents a `library` system. The class has attributes for a list of games (gameslist), a dictionary of lenders (lenders), and a dictionary of donors (donors). It also includes methods for managing the library's collection of games.\n",
        "\n",
        "`games` method returns the list of games in the library.\n",
        "\n",
        "The `lend method` allows a person to borrow a game from the library by removing the game from the list of games and updating the lenders dictionary with the borrower's name and the borrowed game.\n",
        "\n",
        "The `returnb method` allows a person to return a borrowed game to the library by adding the game back to the list of games and removing the borrower's name from the lenders dictionary.\n",
        "\n",
        "The `donate method` allows a person to donate a new game to the library by adding the game to the list of games and updating the donors dictionary with the donor's name and the donated game."
      ]
    },
    {
      "cell_type": "code",
      "execution_count": 202,
      "metadata": {
        "id": "9d6mT0weuCr0"
      },
      "outputs": [],
      "source": [
        "class library():\n",
        "    __games=[]\n",
        "    __lenders={}\n",
        "    __donors={}\n",
        "    \n",
        "    def get_games(self):\n",
        "        if len(self.__games)==0:\n",
        "            print(\"Currently we dont have any games :(\")\n",
        "        else:\n",
        "            return self.__games\n",
        "    \n",
        "    def delete_game(self,game):\n",
        "        self.__games.remove(game)\n",
        "        \n",
        "    def add_game(self,game):\n",
        "        self.__games.append(game)\n",
        "          \n",
        "    def lend(self,name,game):\n",
        "        games=self.get_games()\n",
        "        if game in games:\n",
        "            if name not in self.__lenders.keys():\n",
        "                self.__lenders[name]=[]\n",
        "            self.__lenders[name].append(game)\n",
        "            self.delete_game(game)\n",
        "            print(f\"{name} has borrowed {game} successfully\")\n",
        "        else:\n",
        "            print(f\"{game} is not available :( \\n Come back soon :) \")\n",
        "    \n",
        "    def return_game(self,name,game):\n",
        "        if name in self.__lenders:\n",
        "            if game in self.__lenders[name]:\n",
        "                self.add_game(game)\n",
        "                self.__lenders[name].remove(game)\n",
        "                print(f\"{name} has returned {game}\")\n",
        "                return True\n",
        "        else:\n",
        "            print(f\"{name} has not borrowed {game}\")\n",
        "        \n",
        "    def donate(self, name, game):\n",
        "        self.add_game(game)\n",
        "        if name not in self.__donors.keys():\n",
        "            self.__donors[name] = []\n",
        "        self.__donors[name].append(game)\n",
        "        print(f\"{name} has donated {game} to the library :)\")\n",
        "\n",
        "        \n",
        "    def top_donator(self):\n",
        "        topp=[\"No Body\",0]\n",
        "        for name,game_list in self.__donors.items():\n",
        "            if len(game_list)>topp[1]:\n",
        "                topp[0]=name\n",
        "                topp[1]=len(game_list)\n",
        "        print(f\"{topp[0]} was our highest contributer with donating {topp[1]} games!\")"
      ]
    },
    {
      "cell_type": "markdown",
      "metadata": {},
      "source": [
        "Initializing object from library class and displaying the available games"
      ]
    },
    {
      "cell_type": "code",
      "execution_count": 203,
      "metadata": {},
      "outputs": [
        {
          "name": "stdout",
          "output_type": "stream",
          "text": [
            "Currently we dont have any games :(\n"
          ]
        }
      ],
      "source": [
        "lib=library()\n",
        "lib.get_games() #Getting the list of games if there is no games it will output no games available"
      ]
    },
    {
      "cell_type": "markdown",
      "metadata": {},
      "source": [
        "Adding some games to the library"
      ]
    },
    {
      "cell_type": "code",
      "execution_count": 204,
      "metadata": {},
      "outputs": [
        {
          "data": {
            "text/plain": [
              "['Fifa', 'Wwe', 'Call of duty']"
            ]
          },
          "execution_count": 204,
          "metadata": {},
          "output_type": "execute_result"
        }
      ],
      "source": [
        "lib.add_game(\"Fifa\")\n",
        "lib.add_game(\"Wwe\")\n",
        "lib.add_game(\"Call of duty\")\n",
        "lib.get_games()"
      ]
    },
    {
      "cell_type": "markdown",
      "metadata": {},
      "source": [
        "Donating some games to the library"
      ]
    },
    {
      "cell_type": "code",
      "execution_count": 205,
      "metadata": {},
      "outputs": [
        {
          "name": "stdout",
          "output_type": "stream",
          "text": [
            "Mahmoud Rady has donated Fifa 24 to the library :)\n",
            "Mahmoud Rady has donated WWe 24 to the library :)\n",
            "Mahmoud Rady has donated Fifa 23 to the library :)\n",
            "Mahmoud Rady has donated GTA to the library :)\n",
            "Mahmoud Rady has donated Rocket league to the library :)\n"
          ]
        }
      ],
      "source": [
        "lib.donate('Mahmoud Rady',\"Fifa 24\")\n",
        "lib.donate(\"Mahmoud Rady\",\"WWe 24\")\n",
        "lib.donate(\"Mahmoud Rady\",\"Fifa 23\")\n",
        "lib.donate(\"Mahmoud Rady\",\"GTA\")\n",
        "lib.donate(\"Mahmoud Rady\",\"Rocket league\")"
      ]
    },
    {
      "cell_type": "code",
      "execution_count": 206,
      "metadata": {},
      "outputs": [
        {
          "data": {
            "text/plain": [
              "['Fifa',\n",
              " 'Wwe',\n",
              " 'Call of duty',\n",
              " 'Fifa 24',\n",
              " 'WWe 24',\n",
              " 'Fifa 23',\n",
              " 'GTA',\n",
              " 'Rocket league']"
            ]
          },
          "execution_count": 206,
          "metadata": {},
          "output_type": "execute_result"
        }
      ],
      "source": [
        "lib.get_games()"
      ]
    },
    {
      "cell_type": "markdown",
      "metadata": {},
      "source": [
        "Lending/Borrowing a game"
      ]
    },
    {
      "cell_type": "code",
      "execution_count": 207,
      "metadata": {},
      "outputs": [
        {
          "name": "stdout",
          "output_type": "stream",
          "text": [
            "Hamza Hendy has borrowed Fifa successfully\n"
          ]
        },
        {
          "data": {
            "text/plain": [
              "['Wwe', 'Call of duty', 'Fifa 24', 'WWe 24', 'Fifa 23', 'GTA', 'Rocket league']"
            ]
          },
          "execution_count": 207,
          "metadata": {},
          "output_type": "execute_result"
        }
      ],
      "source": [
        "lib.lend(\"Hamza Hendy\",\"Fifa\")\n",
        "lib.get_games()"
      ]
    },
    {
      "cell_type": "code",
      "execution_count": 208,
      "metadata": {},
      "outputs": [
        {
          "name": "stdout",
          "output_type": "stream",
          "text": [
            "Racing is not available :( \n",
            " Come back soon :) \n"
          ]
        }
      ],
      "source": [
        "lib.lend(\"Mohamed Soffar\",\"Racing\") #The game is not available"
      ]
    },
    {
      "cell_type": "code",
      "execution_count": 209,
      "metadata": {},
      "outputs": [
        {
          "name": "stdout",
          "output_type": "stream",
          "text": [
            "Hamza Hendy has returned Fifa\n"
          ]
        },
        {
          "data": {
            "text/plain": [
              "['Wwe',\n",
              " 'Call of duty',\n",
              " 'Fifa 24',\n",
              " 'WWe 24',\n",
              " 'Fifa 23',\n",
              " 'GTA',\n",
              " 'Rocket league',\n",
              " 'Fifa']"
            ]
          },
          "execution_count": 209,
          "metadata": {},
          "output_type": "execute_result"
        }
      ],
      "source": [
        "lib.return_game(\"Hamza Hendy\",\"Fifa\") #Returning back the game\n",
        "lib.get_games()"
      ]
    },
    {
      "cell_type": "markdown",
      "metadata": {},
      "source": [
        "Highest donator"
      ]
    },
    {
      "cell_type": "code",
      "execution_count": 210,
      "metadata": {},
      "outputs": [
        {
          "name": "stdout",
          "output_type": "stream",
          "text": [
            "Hamza Hendy has donated Racing to the library :)\n",
            "Mahmoud Rady was our highest contributer with donating 5 games!\n"
          ]
        }
      ],
      "source": [
        "lib.donate(\"Hamza Hendy\", \"Racing\")\n",
        "lib.top_donator()"
      ]
    },
    {
      "cell_type": "code",
      "execution_count": 211,
      "metadata": {},
      "outputs": [
        {
          "data": {
            "text/plain": [
              "['Wwe',\n",
              " 'Call of duty',\n",
              " 'Fifa 24',\n",
              " 'WWe 24',\n",
              " 'Fifa 23',\n",
              " 'GTA',\n",
              " 'Rocket league',\n",
              " 'Fifa',\n",
              " 'Racing']"
            ]
          },
          "execution_count": 211,
          "metadata": {},
          "output_type": "execute_result"
        }
      ],
      "source": [
        "lib.get_games()"
      ]
    }
  ],
  "metadata": {
    "colab": {
      "private_outputs": true,
      "provenance": []
    },
    "kernelspec": {
      "display_name": "Python 3",
      "name": "python3"
    },
    "language_info": {
      "codemirror_mode": {
        "name": "ipython",
        "version": 3
      },
      "file_extension": ".py",
      "mimetype": "text/x-python",
      "name": "python",
      "nbconvert_exporter": "python",
      "pygments_lexer": "ipython3",
      "version": "3.12.1"
    }
  },
  "nbformat": 4,
  "nbformat_minor": 0
}
