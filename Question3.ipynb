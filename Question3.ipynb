{
  "cells": [
    {
      "cell_type": "markdown",
      "metadata": {
        "id": "7rMJIubZGObP"
      },
      "source": [
        "#### Multiply 10 with 5, and print the result.\n",
        "\n"
      ]
    },
    {
      "cell_type": "code",
      "execution_count": 77,
      "metadata": {},
      "outputs": [
        {
          "data": {
            "text/plain": [
              "50"
            ]
          },
          "execution_count": 77,
          "metadata": {},
          "output_type": "execute_result"
        }
      ],
      "source": [
        "5*10"
      ]
    },
    {
      "cell_type": "markdown",
      "metadata": {
        "id": "Mucrs9f5GYw3"
      },
      "source": [
        "### Divide 10 by 2, and print the result.\n",
        "\n"
      ]
    },
    {
      "cell_type": "code",
      "execution_count": 78,
      "metadata": {},
      "outputs": [
        {
          "data": {
            "text/plain": [
              "5.0"
            ]
          },
          "execution_count": 78,
          "metadata": {},
          "output_type": "execute_result"
        }
      ],
      "source": [
        "10/2"
      ]
    },
    {
      "cell_type": "markdown",
      "metadata": {
        "id": "GhvrFFPxGkLF"
      },
      "source": [
        "### Use the correct membership operator to check if \"apple\" is present in the fruits object.\n",
        "\n"
      ]
    },
    {
      "cell_type": "code",
      "execution_count": 89,
      "metadata": {},
      "outputs": [
        {
          "data": {
            "text/plain": [
              "True"
            ]
          },
          "execution_count": 89,
          "metadata": {},
          "output_type": "execute_result"
        }
      ],
      "source": [
        "fruits=[\"orange\",\"grapes\",\"apple\",\"mango\"]\n",
        "\"apple\" in fruits"
      ]
    },
    {
      "cell_type": "markdown",
      "metadata": {
        "id": "71TfNEQxGuNw"
      },
      "source": [
        "### Use the correct comparison operator to check if 5 is `not equal` to 10.\n",
        "\n"
      ]
    },
    {
      "cell_type": "code",
      "execution_count": 80,
      "metadata": {},
      "outputs": [
        {
          "data": {
            "text/plain": [
              "True"
            ]
          },
          "execution_count": 80,
          "metadata": {},
          "output_type": "execute_result"
        }
      ],
      "source": [
        "5!=10"
      ]
    },
    {
      "cell_type": "markdown",
      "metadata": {
        "id": "_cqga3VjG9jJ"
      },
      "source": [
        "### Use the correct logical operator to check if at least one of two statements is `True`.\n",
        "\n"
      ]
    },
    {
      "cell_type": "code",
      "execution_count": 81,
      "metadata": {},
      "outputs": [
        {
          "data": {
            "text/plain": [
              "True"
            ]
          },
          "execution_count": 81,
          "metadata": {},
          "output_type": "execute_result"
        }
      ],
      "source": [
        "True or False"
      ]
    },
    {
      "cell_type": "markdown",
      "metadata": {
        "id": "gvFm9RC4H2BJ"
      },
      "source": [
        "### Print the second item in the fruits list.\n",
        "\n"
      ]
    },
    {
      "cell_type": "code",
      "execution_count": 82,
      "metadata": {},
      "outputs": [
        {
          "data": {
            "text/plain": [
              "'grapes'"
            ]
          },
          "execution_count": 82,
          "metadata": {},
          "output_type": "execute_result"
        }
      ],
      "source": [
        "fruits[1]"
      ]
    },
    {
      "cell_type": "markdown",
      "metadata": {
        "id": "_o7i99HGICNC"
      },
      "source": [
        "### Change the value from \"apple\" to \"kiwi\", in the fruits list.\n",
        "\n"
      ]
    },
    {
      "cell_type": "code",
      "execution_count": 90,
      "metadata": {},
      "outputs": [
        {
          "data": {
            "text/plain": [
              "['orange', 'grapes', 'kiwi', 'mango']"
            ]
          },
          "execution_count": 90,
          "metadata": {},
          "output_type": "execute_result"
        }
      ],
      "source": [
        "i=fruits.index(\"apple\")\n",
        "fruits[i]=\"kiwi\"\n",
        "fruits"
      ]
    },
    {
      "cell_type": "markdown",
      "metadata": {
        "id": "Wxi383HNILra"
      },
      "source": [
        "### Use the append method to add \"orange\" to the fruits list.\n",
        "\n"
      ]
    },
    {
      "cell_type": "code",
      "execution_count": 91,
      "metadata": {},
      "outputs": [
        {
          "data": {
            "text/plain": [
              "['orange', 'grapes', 'kiwi', 'mango', 'orange']"
            ]
          },
          "execution_count": 91,
          "metadata": {},
          "output_type": "execute_result"
        }
      ],
      "source": [
        "fruits.append(\"orange\")\n",
        "fruits"
      ]
    },
    {
      "cell_type": "markdown",
      "metadata": {
        "id": "z6tv8q6zIUjZ"
      },
      "source": [
        "### Use the insert method to add \"lemon\" as the second item in the fruits list.\n",
        "\n"
      ]
    },
    {
      "cell_type": "code",
      "execution_count": 92,
      "metadata": {},
      "outputs": [
        {
          "data": {
            "text/plain": [
              "['orange', 'lemon', 'grapes', 'kiwi', 'mango', 'orange']"
            ]
          },
          "execution_count": 92,
          "metadata": {},
          "output_type": "execute_result"
        }
      ],
      "source": [
        "fruits.insert(1,\"lemon\")\n",
        "fruits"
      ]
    },
    {
      "cell_type": "markdown",
      "metadata": {
        "id": "CsyceyyBIiSw"
      },
      "source": [
        "### Use the remove method to remove `\"banana\"` from the fruits list.\n",
        "\n"
      ]
    },
    {
      "cell_type": "code",
      "execution_count": 93,
      "metadata": {},
      "outputs": [
        {
          "data": {
            "text/plain": [
              "['lemon', 'grapes', 'kiwi', 'mango', 'orange']"
            ]
          },
          "execution_count": 93,
          "metadata": {},
          "output_type": "execute_result"
        }
      ],
      "source": [
        "fruits.remove(\"orange\")\n",
        "fruits"
      ]
    },
    {
      "cell_type": "markdown",
      "metadata": {
        "id": "0fbTHlYrIrwY"
      },
      "source": [
        "### Use negative indexing to print the last item in the list.\n",
        "\n"
      ]
    },
    {
      "cell_type": "code",
      "execution_count": 94,
      "metadata": {},
      "outputs": [
        {
          "data": {
            "text/plain": [
              "'orange'"
            ]
          },
          "execution_count": 94,
          "metadata": {},
          "output_type": "execute_result"
        }
      ],
      "source": [
        "fruits[-1]"
      ]
    },
    {
      "cell_type": "markdown",
      "metadata": {
        "id": "rR3ORmMVI55Z"
      },
      "source": [
        "### Use a range of indexes to print the third, fourth, and fifth item in the list.\n",
        "\n"
      ]
    },
    {
      "cell_type": "code",
      "execution_count": 97,
      "metadata": {},
      "outputs": [
        {
          "data": {
            "text/plain": [
              "['kiwi', 'mango', 'orange']"
            ]
          },
          "execution_count": 97,
          "metadata": {},
          "output_type": "execute_result"
        }
      ],
      "source": [
        "fruits[2:6]"
      ]
    },
    {
      "cell_type": "markdown",
      "metadata": {
        "id": "tc0ZAGQ2JfM9"
      },
      "source": [
        "### Use the correct syntax to print the number of items in the list.\n",
        "\n"
      ]
    },
    {
      "cell_type": "code",
      "execution_count": 98,
      "metadata": {},
      "outputs": [
        {
          "data": {
            "text/plain": [
              "5"
            ]
          },
          "execution_count": 98,
          "metadata": {},
          "output_type": "execute_result"
        }
      ],
      "source": [
        "len(fruits)"
      ]
    },
    {
      "cell_type": "markdown",
      "metadata": {
        "id": "feYJq0vYKe1S"
      },
      "source": [
        "### Write a Python program to print all even numbers from a given list of numbers in the same order and stop printing any after 237 in the sequence."
      ]
    },
    {
      "cell_type": "code",
      "execution_count": 99,
      "metadata": {},
      "outputs": [
        {
          "name": "stdout",
          "output_type": "stream",
          "text": [
            "418\n",
            "344\n",
            "236\n",
            "566\n",
            "978\n",
            "328\n",
            "162\n",
            "758\n",
            "918\n"
          ]
        }
      ],
      "source": [
        "numbers = [    \n",
        "    386, 462, 47, 418, 907, 344, 236, 375, 823, 566, 597, 978, 328, 615, 953, 345,\n",
        "    399, 162, 758, 219, 918, 237, 412, 566, 826, 248, 866, 950, 626, 949, 687, 217,\n",
        "    815, 67, 104, 58, 512, 24, 892, 894, 767, 553, 81, 379, 843, 831, 445, 742, 717,\n",
        "    958,743, 527\n",
        "    ]\n",
        "while numbers[i]!=237 and i<len(numbers)-1:\n",
        "    if numbers[i]%2==0:\n",
        "        print(numbers[i])\n",
        "    i+=1\n",
        "    "
      ]
    },
    {
      "cell_type": "markdown",
      "metadata": {
        "id": "ec1qLM7DKnea"
      },
      "source": [
        "#### numbers = [    \n",
        "    386, 462, 47, 418, 907, 344, 236, 375, 823, 566, 597, 978, 328, 615, 953, 345,\n",
        "    399, 162, 758, 219, 918, 237, 412, 566, 826, 248, 866, 950, 626, 949, 687, 217,\n",
        "    815, 67, 104, 58, 512, 24, 892, 894, 767, 553, 81, 379, 843, 831, 445, 742, 717,\n",
        "    958,743, 527\n",
        "    ]"
      ]
    },
    {
      "cell_type": "markdown",
      "metadata": {
        "id": "FX6mi5tqLb5J"
      },
      "source": [
        "### Write a Python program that will accept the base and height of a triangle and compute its area.\n",
        "\n"
      ]
    },
    {
      "cell_type": "markdown",
      "metadata": {
        "id": "mt1FKNPYLN0I"
      },
      "source": [
        "<img src=\"https://www.w3resource.com/w3r_images/python-area-triangle-basic-exercise-30.png\" alt=\"Girl in a jacket\" width=\"500\" height=\"600\">\n"
      ]
    },
    {
      "cell_type": "code",
      "execution_count": 100,
      "metadata": {},
      "outputs": [
        {
          "name": "stdout",
          "output_type": "stream",
          "text": [
            "Area=12.5\n"
          ]
        }
      ],
      "source": [
        "h=float(input(\"Enter Height  \"))\n",
        "b=float(input(\"Enter Base  \"))\n",
        "area=0.5*b*h\n",
        "print(f\"Area={area}\")"
      ]
    },
    {
      "cell_type": "markdown",
      "metadata": {
        "id": "tP7gY2ZCPxnU"
      },
      "source": [
        "### Sort three integers without using conditional statements\n",
        "\n"
      ]
    },
    {
      "cell_type": "markdown",
      "metadata": {
        "id": "Xwy7VRdJPtxN"
      },
      "source": [
        "<img src=\"https://www.w3resource.com/w3r_images/python-basic-image-exercise-69.png\" alt=\"Girl in a jacket\" width=\"500\" height=\"600\">\n"
      ]
    },
    {
      "cell_type": "code",
      "execution_count": 101,
      "metadata": {},
      "outputs": [
        {
          "name": "stdout",
          "output_type": "stream",
          "text": [
            "Max number is 20\n",
            "Middle number is 10\n",
            "Min number is 3\n"
          ]
        }
      ],
      "source": [
        "h1=int(input(\"Enter First number  \"))\n",
        "h2=int(input(\"Enter Second number  \"))\n",
        "h3=int(input(\"Enter Third number  \"))\n",
        "max=max(h1,h2,h3)\n",
        "min=min(h1,h2,h3)\n",
        "middle=h1+h2+h3-max-min\n",
        "\n",
        "print(f\"Max number is {max}\")\n",
        "print(f\"Middle number is {middle}\")\n",
        "print(f\"Min number is {min}\")"
      ]
    },
    {
      "cell_type": "markdown",
      "metadata": {
        "id": "nn6opiI8Uj1-"
      },
      "source": [
        "#### Write a Python function that takes a sequence of numbers and determines whether all the numbers are different from each other."
      ]
    },
    {
      "cell_type": "markdown",
      "metadata": {
        "id": "9LQTVtiGVJ9r"
      },
      "source": [
        "<img src=\"https://www.w3resource.com/w3r_images/python-basic-1-image-exercise-1.png\" alt=\"Girl in a jacket\" width=\"500\" height=\"600\">\n"
      ]
    },
    {
      "cell_type": "code",
      "execution_count": 106,
      "metadata": {},
      "outputs": [
        {
          "name": "stdout",
          "output_type": "stream",
          "text": [
            "121\n",
            "\n",
            "Duplicates exist\n",
            "Duplicates exist\n"
          ]
        }
      ],
      "source": [
        "x=int(input(\"Enter count \"))\n",
        "z=[0]*x\n",
        "for i in range(x):\n",
        "    z[i]=int(input(\"Enter number\"))\n",
        "    print(z[i],end=\"\")\n",
        "print(\"\\n\")\n",
        "#############################################    \n",
        "d=set(z)\n",
        "if len(d)!=len(z):\n",
        "    print(\"Duplicates exist\")\n",
        "else:\n",
        "    print(\"No duplicates\")\n",
        "#############################################   \n",
        "flag=True\n",
        "for i in range(x-1):\n",
        "    for j in range(i+1,x):\n",
        "        if z[i] == z[j]:\n",
        "            flag=False\n",
        "            break\n",
        "    if flag==False:\n",
        "        break\n",
        "if flag:\n",
        "    print(\"No duplicates\")\n",
        "else:\n",
        "    print(\"Duplicates exist\")"
      ]
    },
    {
      "cell_type": "markdown",
      "metadata": {
        "id": "HHNeCzCWa3lx"
      },
      "source": [
        "#### Dictionary"
      ]
    },
    {
      "cell_type": "code",
      "execution_count": 1,
      "metadata": {
        "colab": {
          "base_uri": "https://localhost:8080/"
        },
        "id": "WOrfDlTla-Lf",
        "outputId": "76889e97-c736-490b-d105-61ee74cfb137"
      },
      "outputs": [
        {
          "data": {
            "text/plain": [
              "['a', 'b', 'c']"
            ]
          },
          "execution_count": 1,
          "metadata": {},
          "output_type": "execute_result"
        }
      ],
      "source": [
        "dict1 = {'a': 100, 'b': 200, 'c': 300}\n",
        "list(dict1.keys())"
      ]
    },
    {
      "cell_type": "code",
      "execution_count": null,
      "metadata": {
        "colab": {
          "base_uri": "https://localhost:8080/"
        },
        "id": "DAdr9gOQbDng",
        "outputId": "578f6680-f1e7-49cb-eaa0-bec2445dde2d"
      },
      "outputs": [
        {
          "data": {
            "text/plain": [
              "[200, 300]"
            ]
          },
          "execution_count": 28,
          "metadata": {},
          "output_type": "execute_result"
        }
      ],
      "source": [
        "dict1 = {'a': 100, 'a': 200, 'c': 300}\n",
        "list(dict1.values())"
      ]
    },
    {
      "cell_type": "code",
      "execution_count": null,
      "metadata": {
        "colab": {
          "base_uri": "https://localhost:8080/"
        },
        "id": "XzjcaUpqbMGc",
        "outputId": "f18592a5-dee7-41ae-8f01-621dc6a44b0f"
      },
      "outputs": [
        {
          "data": {
            "text/plain": [
              "[('a', 200), ('c', 300)]"
            ]
          },
          "execution_count": 29,
          "metadata": {},
          "output_type": "execute_result"
        }
      ],
      "source": [
        "dict1 = {'a': 100, 'a': 200, 'c': 300}\n",
        "list(dict1.items())"
      ]
    },
    {
      "cell_type": "markdown",
      "metadata": {
        "id": "6c1ld1XoZ_RK"
      },
      "source": [
        "```\n",
        "Input : {‘a’: 100, ‘b’:200, ‘c’:300}\n",
        "```\n",
        "Output : 600\n",
        "```\n",
        "# Input : {‘x’: 25, ‘y’:18, ‘z’:45}\n",
        "\n",
        "```\n",
        "Output : 88"
      ]
    },
    {
      "cell_type": "code",
      "execution_count": null,
      "metadata": {
        "colab": {
          "base_uri": "https://localhost:8080/"
        },
        "id": "tXhL4XGdR6oE",
        "outputId": "47586d5b-1486-4989-d409-5f9b53d066f6"
      },
      "outputs": [
        {
          "data": {
            "text/plain": [
              "15"
            ]
          },
          "execution_count": 30,
          "metadata": {},
          "output_type": "execute_result"
        }
      ],
      "source": [
        "sum([0,1,2,3,4,5])\n",
        "sum((0,1,2,3,4,5))\n",
        "sum({0,1,2,3,4,5})\n",
        "sum({5:5,10:11})"
      ]
    },
    {
      "cell_type": "markdown",
      "metadata": {
        "id": "6BJBp-omBEnB"
      },
      "source": [
        "### Python program to find the sum of all values in a dictionary\n"
      ]
    },
    {
      "cell_type": "markdown",
      "metadata": {
        "id": "LcvPYHMNb3KI"
      },
      "source": [
        "### Filter the negative values from given dictionary"
      ]
    },
    {
      "cell_type": "markdown",
      "metadata": {
        "id": "zIj0KxvgIO58"
      },
      "source": [
        "### Test if all Values are Same in Dictionary"
      ]
    },
    {
      "cell_type": "markdown",
      "metadata": {
        "id": "-aCAiR5mktpN"
      },
      "source": [
        "### test_dict = {\"Gfg\": 8, \"is\": 5, \"Best\": 5}\n",
        "### False"
      ]
    },
    {
      "cell_type": "markdown",
      "metadata": {
        "id": "PG5Z5JNJMLTi"
      },
      "source": [
        "# `any`"
      ]
    },
    {
      "cell_type": "code",
      "execution_count": null,
      "metadata": {
        "colab": {
          "base_uri": "https://localhost:8080/"
        },
        "id": "42838XSZMPoh",
        "outputId": "e8cb1f25-4cfb-4b2e-b77a-b3f6d8d33348"
      },
      "outputs": [
        {
          "name": "stdout",
          "output_type": "stream",
          "text": [
            "True\n"
          ]
        }
      ],
      "source": [
        "mylist = [False, True, False]\n",
        "x = any(mylist)\n",
        "print(x)\n"
      ]
    },
    {
      "cell_type": "code",
      "execution_count": null,
      "metadata": {
        "colab": {
          "base_uri": "https://localhost:8080/"
        },
        "id": "jMcpwFY0MonY",
        "outputId": "b938cb79-c73e-452c-cc21-80b614560020"
      },
      "outputs": [
        {
          "name": "stdout",
          "output_type": "stream",
          "text": [
            "True\n"
          ]
        }
      ],
      "source": [
        "mydict = {0 : \"Apple\", 1 : \"Orange\"}\n",
        "x = any(mydict)\n",
        "print(x)"
      ]
    },
    {
      "cell_type": "code",
      "execution_count": null,
      "metadata": {
        "colab": {
          "base_uri": "https://localhost:8080/"
        },
        "id": "sDyzrjk5MuOl",
        "outputId": "1a49c77a-6951-44f0-e799-1c77bf610544"
      },
      "outputs": [
        {
          "name": "stdout",
          "output_type": "stream",
          "text": [
            "False\n"
          ]
        }
      ],
      "source": [
        "mydict = {0 : \"Apple\", 0 : True}\n",
        "x = any(mydict)\n",
        "print(x)"
      ]
    },
    {
      "cell_type": "markdown",
      "metadata": {
        "id": "hrg9MKDKMb0Y"
      },
      "source": [
        "#### <font color='gold'>Note: When used on a dictionary, the any() function checks if any of the keys are true, not the values.</font>\n",
        "\n",
        "\n"
      ]
    },
    {
      "cell_type": "markdown",
      "metadata": {
        "id": "RXYELJ29BVOm"
      },
      "source": [
        "### Test if vlaue input  in dictionary value"
      ]
    },
    {
      "cell_type": "code",
      "execution_count": 13,
      "metadata": {},
      "outputs": [
        {
          "name": "stdout",
          "output_type": "stream",
          "text": [
            "False\n",
            "True\n"
          ]
        }
      ],
      "source": [
        "x={'A':1,'B':2,'C':3}\n",
        "\n",
        "print(8 in x.values())\n",
        "print(2 in x.values())"
      ]
    },
    {
      "cell_type": "markdown",
      "metadata": {
        "id": "3GT4F80UOaTa"
      },
      "source": [
        "### Calculate the sum of all numbers from 0 to a given number"
      ]
    },
    {
      "cell_type": "code",
      "execution_count": 5,
      "metadata": {},
      "outputs": [
        {
          "name": "stdout",
          "output_type": "stream",
          "text": [
            "Sum until 5 is equal to 15. \"5\" is included\n"
          ]
        }
      ],
      "source": [
        "sum=0\n",
        "x=int(input(\"Enter Number\"))\n",
        "for i in range(x+1):\n",
        "    sum+=i\n",
        "print(f\"Sum until {x} is equal to {sum}. \\\"{x}\\\" is included\")"
      ]
    },
    {
      "cell_type": "markdown",
      "metadata": {
        "id": "1tHglDPNUT5J"
      },
      "source": [
        "### Find the factorial of a given number using while loop"
      ]
    },
    {
      "cell_type": "code",
      "execution_count": 6,
      "metadata": {},
      "outputs": [
        {
          "data": {
            "text/plain": [
              "120"
            ]
          },
          "execution_count": 6,
          "metadata": {},
          "output_type": "execute_result"
        }
      ],
      "source": [
        "def factorial(x):\n",
        "    if x==0 or x==1:\n",
        "        return 1\n",
        "    else:\n",
        "        return x*factorial(x-1)\n",
        "    \n",
        "    \n",
        "factorial(5)"
      ]
    },
    {
      "cell_type": "markdown",
      "metadata": {
        "id": "QT1487BDVCIU"
      },
      "source": [
        "#### For example: calculate the factorial of 5\n",
        "\n"
      ]
    },
    {
      "cell_type": "markdown",
      "metadata": {
        "id": "FCTJ9pt_VE-y"
      },
      "source": [
        "\n",
        "\n",
        "```\n",
        "# 5! = 5 × 4 × 3 × 2 × 1 = 120\n",
        "\n",
        "```\n",
        "\n"
      ]
    },
    {
      "cell_type": "markdown",
      "metadata": {
        "id": "q_f9IMbDYkLm"
      },
      "source": [
        "### Use a loop to display elements from a given list present at odd index positions"
      ]
    },
    {
      "cell_type": "code",
      "execution_count": 20,
      "metadata": {},
      "outputs": [],
      "source": [
        "from sys import stdout\n"
      ]
    },
    {
      "cell_type": "code",
      "execution_count": 29,
      "metadata": {},
      "outputs": [
        {
          "name": "stdout",
          "output_type": "stream",
          "text": [
            "20 40 60 80 100 "
          ]
        }
      ],
      "source": [
        "x= [10, 20, 30, 40, 50, 60, 70, 80, 90, 100]\n",
        "for i in range(1,len(x),2):\n",
        "    print(x[i], end=\" \")"
      ]
    },
    {
      "cell_type": "markdown",
      "metadata": {
        "id": "Q9gHbx7XZBFc"
      },
      "source": [
        "```\n",
        "my_list = [10, 20, 30, 40, 50, 60, 70, 80, 90, 100]\n",
        "Expected output:\n",
        "20 40 60 80 100\n",
        "```\n",
        "\n"
      ]
    },
    {
      "cell_type": "markdown",
      "metadata": {
        "id": "otJlQghGZZnk"
      },
      "source": [
        "### Calculate the cube of all numbers from 1 to a given number"
      ]
    },
    {
      "cell_type": "code",
      "execution_count": 32,
      "metadata": {},
      "outputs": [
        {
          "name": "stdout",
          "output_type": "stream",
          "text": [
            "The cube of 1 is  1\n",
            "The cube of 2 is  8\n",
            "The cube of 3 is  27\n",
            "The cube of 4 is  64\n",
            "The cube of 5 is  125\n"
          ]
        }
      ],
      "source": [
        "sum=0\n",
        "x=int(input(\"Enter Number\"))\n",
        "for i in range(1,x+1):\n",
        "    print(f\"The cube of {i} is \",i**3)\n"
      ]
    },
    {
      "cell_type": "markdown",
      "metadata": {
        "id": "NRZ3LLaUmtQu"
      },
      "source": [
        "### len of str in list\n",
        "### ['apple', 'orange', 'cat']"
      ]
    },
    {
      "cell_type": "code",
      "execution_count": null,
      "metadata": {
        "colab": {
          "base_uri": "https://localhost:8080/"
        },
        "id": "bIhFj4Q8ZlrW",
        "outputId": "c7a2f25b-b6c4-4289-a9c3-91b8504ed81a"
      },
      "outputs": [
        {
          "name": "stdout",
          "output_type": "stream",
          "text": [
            "[5, 6, 3]\n"
          ]
        }
      ],
      "source": [
        "l = ['apple', 'orange', 'cat']\n",
        "print([ len(i) for i in l])\n"
      ]
    },
    {
      "cell_type": "markdown",
      "metadata": {
        "id": "V05BjYlMeMjZ"
      },
      "source": [
        "### program to count number of vowels using sets in given string\n"
      ]
    },
    {
      "cell_type": "code",
      "execution_count": 43,
      "metadata": {},
      "outputs": [
        {
          "data": {
            "text/plain": [
              "6"
            ]
          },
          "execution_count": 43,
          "metadata": {},
          "output_type": "execute_result"
        }
      ],
      "source": [
        "vowels={'a','o','u','i','e'}\n",
        "word=\"Mahmoud Ahmed Rady\"\n",
        "c=0\n",
        "for letter in word.lower():\n",
        "    if letter in vowels:\n",
        "        c+=1\n",
        "c"
      ]
    },
    {
      "cell_type": "markdown",
      "metadata": {
        "id": "rdIZGB8kgcMQ"
      },
      "source": [
        "\n",
        "### Write a Python program to add an item to a tuple."
      ]
    },
    {
      "cell_type": "code",
      "execution_count": 37,
      "metadata": {},
      "outputs": [
        {
          "data": {
            "text/plain": [
              "(1, 2, 3, 4, 5)"
            ]
          },
          "execution_count": 37,
          "metadata": {},
          "output_type": "execute_result"
        }
      ],
      "source": [
        "x=(1,2,3,4)\n",
        "x=x+(5,)\n",
        "x"
      ]
    },
    {
      "cell_type": "markdown",
      "metadata": {
        "id": "NpZ-cEhZkSlO"
      },
      "source": [
        "### Write a Python program to multiply all the items in a list."
      ]
    },
    {
      "cell_type": "code",
      "execution_count": 44,
      "metadata": {},
      "outputs": [
        {
          "name": "stdout",
          "output_type": "stream",
          "text": [
            "Product of items in the list is equal to 120\n"
          ]
        }
      ],
      "source": [
        "product=1\n",
        "arkam=[1,2,3,4,5]\n",
        "for rakam in arkam:\n",
        "    product*=rakam\n",
        "print(f\"Product of items in the list is equal to {product}\")"
      ]
    },
    {
      "cell_type": "markdown",
      "metadata": {
        "id": "2fwBrTI1k1XG"
      },
      "source": [
        "### Write a Python program to get the smallest number from a list."
      ]
    },
    {
      "cell_type": "code",
      "execution_count": 46,
      "metadata": {},
      "outputs": [
        {
          "data": {
            "text/plain": [
              "2"
            ]
          },
          "execution_count": 46,
          "metadata": {},
          "output_type": "execute_result"
        }
      ],
      "source": [
        "x=[33,44,55,66,77,88,99,2]\n",
        "min(x)"
      ]
    },
    {
      "cell_type": "markdown",
      "metadata": {
        "id": "-k8pdXDek5IW"
      },
      "source": [
        "### Write a Python program to get the largest number from a list."
      ]
    },
    {
      "cell_type": "code",
      "execution_count": 47,
      "metadata": {},
      "outputs": [
        {
          "data": {
            "text/plain": [
              "99"
            ]
          },
          "execution_count": 47,
          "metadata": {},
          "output_type": "execute_result"
        }
      ],
      "source": [
        "x=[33,44,55,66,77,88,99,2]\n",
        "max(x)"
      ]
    },
    {
      "cell_type": "markdown",
      "metadata": {
        "id": "xY1nqjlSlC7b"
      },
      "source": [
        "### Write a Python program to clone or copy a list"
      ]
    },
    {
      "cell_type": "code",
      "execution_count": 48,
      "metadata": {},
      "outputs": [
        {
          "data": {
            "text/plain": [
              "[33, 44, 55, 66, 77, 88, 99, 2]"
            ]
          },
          "execution_count": 48,
          "metadata": {},
          "output_type": "execute_result"
        }
      ],
      "source": [
        "x=[33,44,55,66,77,88,99,2]\n",
        "y=x.copy()\n",
        "y"
      ]
    },
    {
      "cell_type": "markdown",
      "metadata": {
        "id": "48pndthSlHSg"
      },
      "source": [
        "### Write a Python program to remove item(s) from a given set.\n",
        "\n",
        "### s = set([0, 1, 3, 4, 5])"
      ]
    },
    {
      "cell_type": "code",
      "execution_count": 52,
      "metadata": {},
      "outputs": [
        {
          "data": {
            "text/plain": [
              "{0, 1, 3, 5}"
            ]
          },
          "execution_count": 52,
          "metadata": {},
          "output_type": "execute_result"
        }
      ],
      "source": [
        "s = set([0, 1, 3, 4, 5])\n",
        "s.remove(4)\n",
        "s"
      ]
    },
    {
      "cell_type": "markdown",
      "metadata": {
        "id": "J5nHkSQ4lmlq"
      },
      "source": [
        "### Write a Python program to find the maximum and minimum values in a set."
      ]
    },
    {
      "cell_type": "code",
      "execution_count": 55,
      "metadata": {},
      "outputs": [
        {
          "name": "stdout",
          "output_type": "stream",
          "text": [
            "max=5 , min=0\n"
          ]
        }
      ],
      "source": [
        "print(f\"max={max(s)} , min={min(s)}\")"
      ]
    },
    {
      "cell_type": "markdown",
      "metadata": {
        "id": "ZDEKN9ulnLZO"
      },
      "source": [
        "### Write a Python program to convert a tuple to a dictionary.\n",
        "### dict1 = {}\n",
        "### tuple1 = (\"name\", \"age\", \"city\",\"city\")\n",
        "\n",
        "```\n",
        "# enumerate()\n",
        "```\n",
        "\n"
      ]
    },
    {
      "cell_type": "code",
      "execution_count": 60,
      "metadata": {},
      "outputs": [
        {
          "data": {
            "text/plain": [
              "{0: 'name', 1: 'age', 2: 'city', 3: 'city'}"
            ]
          },
          "execution_count": 60,
          "metadata": {},
          "output_type": "execute_result"
        }
      ],
      "source": [
        "tuple1 = (\"name\", \"age\", \"city\",\"city\")\n",
        "dict1=dict(enumerate(tuple1))\n",
        "dict1"
      ]
    },
    {
      "cell_type": "markdown",
      "metadata": {
        "id": "UN1IZCJHsWcX"
      },
      "source": [
        "### Write a Python program to replace the last value of tuples in a list.\n",
        "\n",
        "### Sample list: [(10, 20, 40), (40, 50, 60), (70, 80, 90)]\n",
        "\n",
        "### Expected Output: [(10, 20, 100), (40, 50, 100), (70, 80, 100)]\n",
        "\n"
      ]
    },
    {
      "cell_type": "code",
      "execution_count": 76,
      "metadata": {},
      "outputs": [
        {
          "data": {
            "text/plain": [
              "[(10, 20, 100), (40, 50, 100), (70, 80, 100)]"
            ]
          },
          "execution_count": 76,
          "metadata": {},
          "output_type": "execute_result"
        }
      ],
      "source": [
        "x=[(10, 20, 40), (40, 50, 60), (70, 80, 90)]\n",
        "z=[]*3\n",
        "for i in range(3):\n",
        "    y=[0]*3\n",
        "    for j in range(3):\n",
        "        if j==2:\n",
        "            y[j]=100\n",
        "        else:\n",
        "            y[j]=x[i][j]\n",
        "    z.append(tuple(y))\n",
        "\n",
        "z    "
      ]
    },
    {
      "cell_type": "markdown",
      "metadata": {},
      "source": []
    }
  ],
  "metadata": {
    "colab": {
      "provenance": []
    },
    "kernelspec": {
      "display_name": "Python 3",
      "name": "python3"
    },
    "language_info": {
      "codemirror_mode": {
        "name": "ipython",
        "version": 3
      },
      "file_extension": ".py",
      "mimetype": "text/x-python",
      "name": "python",
      "nbconvert_exporter": "python",
      "pygments_lexer": "ipython3",
      "version": "3.12.1"
    }
  },
  "nbformat": 4,
  "nbformat_minor": 0
}
